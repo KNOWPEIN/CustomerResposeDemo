{
 "cells": [
  {
   "cell_type": "markdown",
   "metadata": {
    "id": "20KRQUQ2MMsG"
   },
   "source": [
    "# Automated Response Generation for Customer Support Using GPT-3\n",
    "\n",
    "## Objective\n",
    "Build a model to generate automated responses to customer queries using GPT-3."
   ]
  },
  {
   "cell_type": "markdown",
   "metadata": {
    "id": "lu3C0Q_WMMsH"
   },
   "source": [
    "### Set Up Environment\n",
    "Install the necessary libraries."
   ]
  },
  {
   "cell_type": "code",
   "execution_count": 2,
   "metadata": {
    "colab": {
     "base_uri": "https://localhost:8080/"
    },
    "id": "YKg-8FTNMMsH",
    "outputId": "35fed064-b973-40fc-c18a-db3e72a6ac45"
   },
   "outputs": [
    {
     "name": "stdout",
     "output_type": "stream",
     "text": [
      "Collecting openai\n",
      "  Downloading openai-1.35.7-py3-none-any.whl (327 kB)\n",
      "\u001b[?25l     \u001b[90m━━━━━━━━━━━━━━━━━━━━━━━━━━━━━━━━━━━━━━━━\u001b[0m \u001b[32m0.0/327.5 kB\u001b[0m \u001b[31m?\u001b[0m eta \u001b[36m-:--:--\u001b[0m\r",
      "\u001b[2K     \u001b[91m━━━━━━━━━━━━━━━━━━━━━━━━━━━━━━━━━━━━━━\u001b[0m\u001b[91m╸\u001b[0m\u001b[90m━\u001b[0m \u001b[32m317.4/327.5 kB\u001b[0m \u001b[31m12.2 MB/s\u001b[0m eta \u001b[36m0:00:01\u001b[0m\r",
      "\u001b[2K     \u001b[90m━━━━━━━━━━━━━━━━━━━━━━━━━━━━━━━━━━━━━━━━\u001b[0m \u001b[32m327.5/327.5 kB\u001b[0m \u001b[31m8.8 MB/s\u001b[0m eta \u001b[36m0:00:00\u001b[0m\n",
      "\u001b[?25hCollecting datasets\n",
      "  Downloading datasets-2.20.0-py3-none-any.whl (547 kB)\n",
      "\u001b[2K     \u001b[90m━━━━━━━━━━━━━━━━━━━━━━━━━━━━━━━━━━━━━━━━\u001b[0m \u001b[32m547.8/547.8 kB\u001b[0m \u001b[31m47.2 MB/s\u001b[0m eta \u001b[36m0:00:00\u001b[0m\n",
      "\u001b[?25hRequirement already satisfied: anyio<5,>=3.5.0 in /usr/local/lib/python3.10/dist-packages (from openai) (3.7.1)\n",
      "Requirement already satisfied: distro<2,>=1.7.0 in /usr/lib/python3/dist-packages (from openai) (1.7.0)\n",
      "Collecting httpx<1,>=0.23.0 (from openai)\n",
      "  Downloading httpx-0.27.0-py3-none-any.whl (75 kB)\n",
      "\u001b[2K     \u001b[90m━━━━━━━━━━━━━━━━━━━━━━━━━━━━━━━━━━━━━━━━\u001b[0m \u001b[32m75.6/75.6 kB\u001b[0m \u001b[31m6.0 MB/s\u001b[0m eta \u001b[36m0:00:00\u001b[0m\n",
      "\u001b[?25hRequirement already satisfied: pydantic<3,>=1.9.0 in /usr/local/lib/python3.10/dist-packages (from openai) (2.7.4)\n",
      "Requirement already satisfied: sniffio in /usr/local/lib/python3.10/dist-packages (from openai) (1.3.1)\n",
      "Requirement already satisfied: tqdm>4 in /usr/local/lib/python3.10/dist-packages (from openai) (4.66.4)\n",
      "Requirement already satisfied: typing-extensions<5,>=4.7 in /usr/local/lib/python3.10/dist-packages (from openai) (4.12.2)\n",
      "Requirement already satisfied: filelock in /usr/local/lib/python3.10/dist-packages (from datasets) (3.15.3)\n",
      "Requirement already satisfied: numpy>=1.17 in /usr/local/lib/python3.10/dist-packages (from datasets) (1.25.2)\n",
      "Collecting pyarrow>=15.0.0 (from datasets)\n",
      "  Downloading pyarrow-16.1.0-cp310-cp310-manylinux_2_28_x86_64.whl (40.8 MB)\n",
      "\u001b[2K     \u001b[90m━━━━━━━━━━━━━━━━━━━━━━━━━━━━━━━━━━━━━━━━\u001b[0m \u001b[32m40.8/40.8 MB\u001b[0m \u001b[31m16.5 MB/s\u001b[0m eta \u001b[36m0:00:00\u001b[0m\n",
      "\u001b[?25hRequirement already satisfied: pyarrow-hotfix in /usr/local/lib/python3.10/dist-packages (from datasets) (0.6)\n",
      "Collecting dill<0.3.9,>=0.3.0 (from datasets)\n",
      "  Downloading dill-0.3.8-py3-none-any.whl (116 kB)\n",
      "\u001b[2K     \u001b[90m━━━━━━━━━━━━━━━━━━━━━━━━━━━━━━━━━━━━━━━━\u001b[0m \u001b[32m116.3/116.3 kB\u001b[0m \u001b[31m17.5 MB/s\u001b[0m eta \u001b[36m0:00:00\u001b[0m\n",
      "\u001b[?25hRequirement already satisfied: pandas in /usr/local/lib/python3.10/dist-packages (from datasets) (2.0.3)\n",
      "Collecting requests>=2.32.2 (from datasets)\n",
      "  Downloading requests-2.32.3-py3-none-any.whl (64 kB)\n",
      "\u001b[2K     \u001b[90m━━━━━━━━━━━━━━━━━━━━━━━━━━━━━━━━━━━━━━━━\u001b[0m \u001b[32m64.9/64.9 kB\u001b[0m \u001b[31m6.2 MB/s\u001b[0m eta \u001b[36m0:00:00\u001b[0m\n",
      "\u001b[?25hCollecting xxhash (from datasets)\n",
      "  Downloading xxhash-3.4.1-cp310-cp310-manylinux_2_17_x86_64.manylinux2014_x86_64.whl (194 kB)\n",
      "\u001b[2K     \u001b[90m━━━━━━━━━━━━━━━━━━━━━━━━━━━━━━━━━━━━━━━━\u001b[0m \u001b[32m194.1/194.1 kB\u001b[0m \u001b[31m19.4 MB/s\u001b[0m eta \u001b[36m0:00:00\u001b[0m\n",
      "\u001b[?25hCollecting multiprocess (from datasets)\n",
      "  Downloading multiprocess-0.70.16-py310-none-any.whl (134 kB)\n",
      "\u001b[2K     \u001b[90m━━━━━━━━━━━━━━━━━━━━━━━━━━━━━━━━━━━━━━━━\u001b[0m \u001b[32m134.8/134.8 kB\u001b[0m \u001b[31m15.2 MB/s\u001b[0m eta \u001b[36m0:00:00\u001b[0m\n",
      "\u001b[?25hRequirement already satisfied: fsspec[http]<=2024.5.0,>=2023.1.0 in /usr/local/lib/python3.10/dist-packages (from datasets) (2023.6.0)\n",
      "Requirement already satisfied: aiohttp in /usr/local/lib/python3.10/dist-packages (from datasets) (3.9.5)\n",
      "Requirement already satisfied: huggingface-hub>=0.21.2 in /usr/local/lib/python3.10/dist-packages (from datasets) (0.23.4)\n",
      "Requirement already satisfied: packaging in /usr/local/lib/python3.10/dist-packages (from datasets) (24.1)\n",
      "Requirement already satisfied: pyyaml>=5.1 in /usr/local/lib/python3.10/dist-packages (from datasets) (6.0.1)\n",
      "Requirement already satisfied: idna>=2.8 in /usr/local/lib/python3.10/dist-packages (from anyio<5,>=3.5.0->openai) (3.7)\n",
      "Requirement already satisfied: exceptiongroup in /usr/local/lib/python3.10/dist-packages (from anyio<5,>=3.5.0->openai) (1.2.1)\n",
      "Requirement already satisfied: aiosignal>=1.1.2 in /usr/local/lib/python3.10/dist-packages (from aiohttp->datasets) (1.3.1)\n",
      "Requirement already satisfied: attrs>=17.3.0 in /usr/local/lib/python3.10/dist-packages (from aiohttp->datasets) (23.2.0)\n",
      "Requirement already satisfied: frozenlist>=1.1.1 in /usr/local/lib/python3.10/dist-packages (from aiohttp->datasets) (1.4.1)\n",
      "Requirement already satisfied: multidict<7.0,>=4.5 in /usr/local/lib/python3.10/dist-packages (from aiohttp->datasets) (6.0.5)\n",
      "Requirement already satisfied: yarl<2.0,>=1.0 in /usr/local/lib/python3.10/dist-packages (from aiohttp->datasets) (1.9.4)\n",
      "Requirement already satisfied: async-timeout<5.0,>=4.0 in /usr/local/lib/python3.10/dist-packages (from aiohttp->datasets) (4.0.3)\n",
      "Requirement already satisfied: certifi in /usr/local/lib/python3.10/dist-packages (from httpx<1,>=0.23.0->openai) (2024.6.2)\n",
      "Collecting httpcore==1.* (from httpx<1,>=0.23.0->openai)\n",
      "  Downloading httpcore-1.0.5-py3-none-any.whl (77 kB)\n",
      "\u001b[2K     \u001b[90m━━━━━━━━━━━━━━━━━━━━━━━━━━━━━━━━━━━━━━━━\u001b[0m \u001b[32m77.9/77.9 kB\u001b[0m \u001b[31m9.8 MB/s\u001b[0m eta \u001b[36m0:00:00\u001b[0m\n",
      "\u001b[?25hCollecting h11<0.15,>=0.13 (from httpcore==1.*->httpx<1,>=0.23.0->openai)\n",
      "  Downloading h11-0.14.0-py3-none-any.whl (58 kB)\n",
      "\u001b[2K     \u001b[90m━━━━━━━━━━━━━━━━━━━━━━━━━━━━━━━━━━━━━━━━\u001b[0m \u001b[32m58.3/58.3 kB\u001b[0m \u001b[31m8.2 MB/s\u001b[0m eta \u001b[36m0:00:00\u001b[0m\n",
      "\u001b[?25hRequirement already satisfied: annotated-types>=0.4.0 in /usr/local/lib/python3.10/dist-packages (from pydantic<3,>=1.9.0->openai) (0.7.0)\n",
      "Requirement already satisfied: pydantic-core==2.18.4 in /usr/local/lib/python3.10/dist-packages (from pydantic<3,>=1.9.0->openai) (2.18.4)\n",
      "Requirement already satisfied: charset-normalizer<4,>=2 in /usr/local/lib/python3.10/dist-packages (from requests>=2.32.2->datasets) (3.3.2)\n",
      "Requirement already satisfied: urllib3<3,>=1.21.1 in /usr/local/lib/python3.10/dist-packages (from requests>=2.32.2->datasets) (2.0.7)\n",
      "Requirement already satisfied: python-dateutil>=2.8.2 in /usr/local/lib/python3.10/dist-packages (from pandas->datasets) (2.8.2)\n",
      "Requirement already satisfied: pytz>=2020.1 in /usr/local/lib/python3.10/dist-packages (from pandas->datasets) (2023.4)\n",
      "Requirement already satisfied: tzdata>=2022.1 in /usr/local/lib/python3.10/dist-packages (from pandas->datasets) (2024.1)\n",
      "Requirement already satisfied: six>=1.5 in /usr/local/lib/python3.10/dist-packages (from python-dateutil>=2.8.2->pandas->datasets) (1.16.0)\n",
      "Installing collected packages: xxhash, requests, pyarrow, h11, dill, multiprocess, httpcore, httpx, openai, datasets\n",
      "  Attempting uninstall: requests\n",
      "    Found existing installation: requests 2.31.0\n",
      "    Uninstalling requests-2.31.0:\n",
      "      Successfully uninstalled requests-2.31.0\n",
      "  Attempting uninstall: pyarrow\n",
      "    Found existing installation: pyarrow 14.0.2\n",
      "    Uninstalling pyarrow-14.0.2:\n",
      "      Successfully uninstalled pyarrow-14.0.2\n",
      "\u001b[31mERROR: pip's dependency resolver does not currently take into account all the packages that are installed. This behaviour is the source of the following dependency conflicts.\n",
      "cudf-cu12 24.4.1 requires pyarrow<15.0.0a0,>=14.0.1, but you have pyarrow 16.1.0 which is incompatible.\n",
      "google-colab 1.0.0 requires requests==2.31.0, but you have requests 2.32.3 which is incompatible.\n",
      "ibis-framework 8.0.0 requires pyarrow<16,>=2, but you have pyarrow 16.1.0 which is incompatible.\u001b[0m\u001b[31m\n",
      "\u001b[0mSuccessfully installed datasets-2.20.0 dill-0.3.8 h11-0.14.0 httpcore-1.0.5 httpx-0.27.0 multiprocess-0.70.16 openai-1.35.7 pyarrow-16.1.0 requests-2.32.3 xxhash-3.4.1\n"
     ]
    }
   ],
   "source": [
    "!pip install openai datasets"
   ]
  },
  {
   "cell_type": "code",
   "execution_count": 3,
   "metadata": {
    "colab": {
     "base_uri": "https://localhost:8080/"
    },
    "id": "nTqMsyqVESDf",
    "outputId": "eeb36c8a-fc5c-41c8-e3aa-32b96a473fa5"
   },
   "outputs": [
    {
     "name": "stdout",
     "output_type": "stream",
     "text": [
      "Collecting openai==0.28.0\n",
      "  Downloading openai-0.28.0-py3-none-any.whl (76 kB)\n",
      "\u001b[2K     \u001b[90m━━━━━━━━━━━━━━━━━━━━━━━━━━━━━━━━━━━━━━━━\u001b[0m \u001b[32m76.5/76.5 kB\u001b[0m \u001b[31m134.9 kB/s\u001b[0m eta \u001b[36m0:00:00\u001b[0m\n",
      "\u001b[?25hRequirement already satisfied: requests>=2.20 in /usr/local/lib/python3.10/dist-packages (from openai==0.28.0) (2.32.3)\n",
      "Requirement already satisfied: tqdm in /usr/local/lib/python3.10/dist-packages (from openai==0.28.0) (4.66.4)\n",
      "Requirement already satisfied: aiohttp in /usr/local/lib/python3.10/dist-packages (from openai==0.28.0) (3.9.5)\n",
      "Requirement already satisfied: charset-normalizer<4,>=2 in /usr/local/lib/python3.10/dist-packages (from requests>=2.20->openai==0.28.0) (3.3.2)\n",
      "Requirement already satisfied: idna<4,>=2.5 in /usr/local/lib/python3.10/dist-packages (from requests>=2.20->openai==0.28.0) (3.7)\n",
      "Requirement already satisfied: urllib3<3,>=1.21.1 in /usr/local/lib/python3.10/dist-packages (from requests>=2.20->openai==0.28.0) (2.0.7)\n",
      "Requirement already satisfied: certifi>=2017.4.17 in /usr/local/lib/python3.10/dist-packages (from requests>=2.20->openai==0.28.0) (2024.6.2)\n",
      "Requirement already satisfied: aiosignal>=1.1.2 in /usr/local/lib/python3.10/dist-packages (from aiohttp->openai==0.28.0) (1.3.1)\n",
      "Requirement already satisfied: attrs>=17.3.0 in /usr/local/lib/python3.10/dist-packages (from aiohttp->openai==0.28.0) (23.2.0)\n",
      "Requirement already satisfied: frozenlist>=1.1.1 in /usr/local/lib/python3.10/dist-packages (from aiohttp->openai==0.28.0) (1.4.1)\n",
      "Requirement already satisfied: multidict<7.0,>=4.5 in /usr/local/lib/python3.10/dist-packages (from aiohttp->openai==0.28.0) (6.0.5)\n",
      "Requirement already satisfied: yarl<2.0,>=1.0 in /usr/local/lib/python3.10/dist-packages (from aiohttp->openai==0.28.0) (1.9.4)\n",
      "Requirement already satisfied: async-timeout<5.0,>=4.0 in /usr/local/lib/python3.10/dist-packages (from aiohttp->openai==0.28.0) (4.0.3)\n",
      "Installing collected packages: openai\n",
      "  Attempting uninstall: openai\n",
      "    Found existing installation: openai 1.35.7\n",
      "    Uninstalling openai-1.35.7:\n",
      "      Successfully uninstalled openai-1.35.7\n",
      "Successfully installed openai-0.28.0\n"
     ]
    }
   ],
   "source": [
    "!pip install openai==0.28.0"
   ]
  },
  {
   "cell_type": "markdown",
   "metadata": {
    "id": "9filJ8e3MMsI"
   },
   "source": [
    "### Step 2: Set Up OpenAI API Key\n",
    "You need to set up your OpenAI API key."
   ]
  },
  {
   "cell_type": "code",
   "execution_count": 4,
   "metadata": {
    "id": "LURIGvJ0DfZY",
    "tags": []
   },
   "outputs": [],
   "source": [
    "import openai\n",
    "\n",
    "# Replace 'Dummy api' with your actual API key\n",
    "openai.api_key = 'Dummy api'"
   ]
  },
  {
   "cell_type": "markdown",
   "metadata": {
    "id": "eCwsvyC0MMsI"
   },
   "source": [
    "### Load and Explore the Dataset\n",
    "Load the dataset from HuggingFace and explore its structure."
   ]
  },
  {
   "cell_type": "code",
   "execution_count": 5,
   "metadata": {
    "colab": {
     "base_uri": "https://localhost:8080/",
     "height": 289,
     "referenced_widgets": [
      "e3e069f545cb4e4ab5674f14460dc9ef",
      "7a71484b8914428da4cff2b0e4e451f4",
      "81acb80d43c145ef8bf38c90fad345ac",
      "590f031b13ff434cbbcc2c10731b4169",
      "f2261be158534001b5bac762d550813a",
      "493d553b72364b8bbadf682b8b2f6f08",
      "5f4fdd8431ae4d96ab2cd528e18965f7",
      "357cf1dd2e4742ae8de9b52b74d277ae",
      "f8384fab29ee458a88178d75dffa064d",
      "e93a1337e73e43d5ae3a4c80ac075d08",
      "7793c3bdff0d4d53b8f591509cb82817",
      "3b4de521877942be86b61b1593f63b8b",
      "075067b133584b539e9471a0e7badc55",
      "092ed401e58c444c8efd73034d0f1dd8",
      "f528d767d1474a1fa328afe39ed838aa",
      "9ba49ab1c35f4437acb401832f3a2992",
      "9f891f6b2d4c4f2794278b11f1b2e83c",
      "a0d60325bc184e57b33e17b18bf30bd7",
      "7b3b1801a94b4996a01229958b8a7b23",
      "b695fb96005d4e07b8af95d333cedd20",
      "789b0fedf72e47adafcff82eae217e4f",
      "82b51cda51d64977bf198855c17ac055"
     ]
    },
    "id": "9KgkCbWGMMsI",
    "outputId": "b149a3f0-363f-4b3c-b0b5-98188abd635e"
   },
   "outputs": [
    {
     "name": "stderr",
     "output_type": "stream",
     "text": [
      "/usr/local/lib/python3.10/dist-packages/huggingface_hub/utils/_token.py:89: UserWarning: \n",
      "The secret `HF_TOKEN` does not exist in your Colab secrets.\n",
      "To authenticate with the Hugging Face Hub, create a token in your settings tab (https://huggingface.co/settings/tokens), set it as secret in your Google Colab and restart your session.\n",
      "You will be able to reuse this secret in all of your notebooks.\n",
      "Please note that authentication is recommended but still optional to access public models or datasets.\n",
      "  warnings.warn(\n"
     ]
    },
    {
     "data": {
      "application/vnd.jupyter.widget-view+json": {
       "model_id": "e3e069f545cb4e4ab5674f14460dc9ef",
       "version_major": 2,
       "version_minor": 0
      },
      "text/plain": [
       "Downloading data:   0%|          | 0.00/12.4k [00:00<?, ?B/s]"
      ]
     },
     "metadata": {},
     "output_type": "display_data"
    },
    {
     "data": {
      "application/vnd.jupyter.widget-view+json": {
       "model_id": "3b4de521877942be86b61b1593f63b8b",
       "version_major": 2,
       "version_minor": 0
      },
      "text/plain": [
       "Generating train split:   0%|          | 0/74 [00:00<?, ? examples/s]"
      ]
     },
     "metadata": {},
     "output_type": "display_data"
    },
    {
     "name": "stdout",
     "output_type": "stream",
     "text": [
      "DatasetDict({\n",
      "    train: Dataset({\n",
      "        features: ['query', 'response'],\n",
      "        num_rows: 74\n",
      "    })\n",
      "})\n"
     ]
    }
   ],
   "source": [
    "from datasets import load_dataset\n",
    "\n",
    "# Load the dataset\n",
    "dataset = load_dataset('Kaludi/Customer-Support-Responses')\n",
    "\n",
    "# Display the structure of the dataset\n",
    "print(dataset)"
   ]
  },
  {
   "cell_type": "markdown",
   "metadata": {
    "id": "cDcXnitbMMsJ"
   },
   "source": [
    "### Prepare Few-Shot Learning Prompt\n",
    "Prepare a few examples of query-response pairs to guide GPT-3."
   ]
  },
  {
   "cell_type": "code",
   "execution_count": 6,
   "metadata": {
    "id": "xAuhDApmMMsJ"
   },
   "outputs": [],
   "source": [
    "few_shot_examples = \"\"\"\n",
    "Query: My order hasn't arrived yet.\n",
    "Response: We apologize for the inconvenience. Can you please provide your order number so we can investigate?\n",
    "\n",
    "Query: I received a damaged product.\n",
    "Response: We apologize for the inconvenience. Can you please provide a photo of the damaged product so we can assist you further?\n",
    "\n",
    "Query: I need to return an item.\n",
    "Response: Certainly. Please provide your order number and reason for return, and we will provide you with instructions on how to proceed.\n",
    "\n",
    "Query: How can I change my shipping address?\n",
    "Response: You can change your shipping address by logging into your account and going to the 'Account Settings' section. If you need further assistance, please contact our customer support.\n",
    "\n",
    "Query: What is your refund policy?\n",
    "Response: Our refund policy allows returns within 30 days of purchase. Please visit our 'Refund Policy' page for more details or contact customer support for assistance.\n",
    "\"\"\"\n"
   ]
  },
  {
   "cell_type": "markdown",
   "metadata": {
    "id": "63o0DaMmMMsJ"
   },
   "source": [
    "### Generate Responses Using GPT-3 for the Full Dataset\n",
    "Use the entire dataset to guide GPT-3 in generating responses."
   ]
  },
  {
   "cell_type": "code",
   "execution_count": 7,
   "metadata": {
    "colab": {
     "base_uri": "https://localhost:8080/"
    },
    "id": "gALWQqydMMsJ",
    "outputId": "aebd9746-20c4-48cc-efe4-3793bb73d2f1"
   },
   "outputs": [
    {
     "name": "stdout",
     "output_type": "stream",
     "text": [
      "Query: My order hasn't arrived yet.\n",
      "Expected Response: We apologize for the inconvenience. Can you please provide your order number so we can investigate?\n",
      "Generated Response: We apologize for the delay in receiving your order. Can you please provide your order number so we can look into this for you?\n",
      "\n",
      "Query: I received a damaged product.\n",
      "Expected Response: We apologize for the inconvenience. Can you please provide a photo of the damaged product so we can assist you further?\n",
      "Generated Response: Response: We apologize for the inconvenience. Can you please provide a photo of the damaged product so we can assist you further?\n",
      "\n",
      "Query: I need to return an item.\n",
      "Expected Response: Certainly. Please provide your order number and reason for return, and we will provide you with instructions on how to proceed.\n",
      "Generated Response: Certainly. Please provide your order number and reason for return, and we will provide you with instructions on how to proceed.\n",
      "\n",
      "Query: I want to change my shipping address.\n",
      "Expected Response: No problem. Can you please provide your order number and the new shipping address you'd like to use?\n",
      "Generated Response: You can change your shipping address by logging into your account and updating the address in the 'Shipping Information' section. If you encounter any issues or need assistance, feel free to reach out to our customer support team for help.\n",
      "\n",
      "Query: I have a question about my bill.\n",
      "Expected Response: We'd be happy to help. Can you please provide your account number and a brief description of your question?\n",
      "Generated Response: Please provide more details about your question regarding your bill so that I can assist you better.\n",
      "\n",
      "Query: How do I cancel my subscription?\n",
      "Expected Response: We're sorry to hear that. Can you please provide your account email and the name of the subscription you'd like to cancel?\n",
      "Generated Response: To cancel your subscription, please log into your account and navigate to the subscription management section. Look for an option to cancel your subscription there. If you encounter any issues, please reach out to our customer support team for further assistance.\n",
      "\n",
      "Query: Can I get a refund for my purchase?\n",
      "Expected Response: We understand your concern. Please provide your order number and the reason for your refund request so we can assist you further.\n",
      "Generated Response: Our refund policy allows returns within 30 days of purchase. If you would like to request a refund, please provide your order number and reason for the refund, and we will assist you further.\n",
      "\n",
      "Query: I'd like to track my order.\n",
      "Expected Response: Of course. Can you please provide your order number so we can check the current status for you?\n",
      "Generated Response: To track your order, you can usually find the tracking information in the email confirmation we sent you when your order was shipped. If you can't locate that email or need further assistance, please provide your order number, and we will be happy to help you track your order.\n",
      "\n",
      "Query: My account has been locked.\n",
      "Expected Response: We apologize for the inconvenience. Can you please provide your account email so we can help you regain access?\n",
      "Generated Response: I'm sorry to hear that your account has been locked. Please contact our customer support team, and they will assist you in unlocking your account and resolving any issues you may be facing.\n",
      "\n",
      "Query: I can't find the item I'm looking for.\n",
      "Expected Response: We're here to help. Can you please provide a description or product name of the item you're looking for so we can assist you?\n",
      "Generated Response: I'm sorry to hear that. Is there a specific item you're looking for? I can try to help you search for it or provide alternative suggestions.\n",
      "\n",
      "Query: I'm having trouble applying a promo code.\n",
      "Expected Response: We apologize for the inconvenience. Can you please provide the promo code you're trying to use, and we'll help you resolve the issue?\n",
      "Generated Response: If you are encountering issues with applying a promo code during checkout, please ensure that the code is entered correctly and is still valid. If the problem persists, kindly reach out to our customer support team for further assistance. They will be happy to help you resolve the issue.\n",
      "\n",
      "Query: How do I update my payment information?\n",
      "Expected Response: We can help with that. Can you please provide your account email so we can guide you through updating your payment information?\n",
      "Generated Response: You can update your payment information by logging into your account and going to the 'Payment Methods' section. From there, you can add or edit your payment details as needed. If you encounter any issues, feel free to contact our customer support for assistance.\n",
      "\n",
      "Query: I haven't received a response to my email inquiry.\n",
      "Expected Response: We apologize for the delay. Can you please provide your ticket number or account email so we can follow up on your inquiry?\n",
      "Generated Response: We apologize for the delay in responding to your email inquiry. Please provide us with your email address or reference number, so we can look into this for you. Alternatively, you can also reach out to our customer support team for immediate assistance.\n",
      "\n",
      "Query: Can I change the size of an item in my order?\n",
      "Expected Response: Certainly. Can you please provide your order number and the details of the item you'd like to change?\n",
      "Generated Response: Certainly! To change the size of an item in your order, please provide your order number and the details of the item you wish to change the size for. Our customer support team will assist you with the necessary steps to make the change.\n",
      "\n",
      "Query: What is the status of my warranty claim?\n",
      "Expected Response: We'd be happy to check for you. Can you please provide your claim number or the product's serial number?\n",
      "Generated Response: To inquire about the status of your warranty claim, please provide your warranty claim number or any relevant information, and our support team will be able to assist you further.\n",
      "\n",
      "Query: Is my item in stock?\n",
      "Expected Response: To check availability, can you please provide the product name or SKU so we can assist you?\n",
      "Generated Response: To check if your item is in stock, please provide the name or product code of the item, or provide your order number if you have already placed an order. I can then assist you in checking the current stock availability.\n",
      "\n",
      "Query: My promo code has expired. Can I still use it?\n",
      "Expected Response: Unfortunately, expired promo codes cannot be used. However, please provide the code, and we'll see if there's a similar offer currently available.\n",
      "Generated Response: We apologize for the inconvenience. Promo codes typically have expiration dates and may not be valid after they expire. If you have a valid replacement code or need assistance, please contact our customer support team for further help.\n",
      "\n",
      "Query: How do I reset my password?\n",
      "Expected Response: We can help with that. Please provide your account email, and we'll send you instructions on how to reset your password.\n",
      "Generated Response: You can reset your password by clicking on the \"Forgot Password\" link on the login page. You will receive instructions on how to reset your password via email. If you encounter any issues, please reach out to our customer support for assistance.\n",
      "\n",
      "Query: Can I place a bulk order?\n",
      "Expected Response: Certainly. Can you please provide the product name or SKU, and the quantity you'd like to order so we can check availability and pricing?\n",
      "Generated Response: Yes, you can place a bulk order. Please contact our sales team or customer support for assistance with bulk orders. They will be able to provide you with information on available discounts, delivery options, and any other specific requirements you may have.\n",
      "\n",
      "Query: How do I apply for a job at your company?\n",
      "Expected Response: Thank you for your interest. Can you please provide your email address so we can send you information on how to apply?\n",
      "Generated Response: To apply for a job at our company, please visit our careers page on our website. You can browse available job openings and submit your application online. If you have any specific inquiries or need assistance with the application process, feel free to reach out to our HR department for further guidance.\n",
      "\n",
      "Query: Can I add an item to an existing order?\n",
      "Expected Response: We'll do our best to help. Can you please provide your order number and the details of the item you'd like to add?\n",
      "Generated Response: Unfortunately, once an order has been placed, you cannot add items to it. You would need to place a new order for any additional items. If you have any specific concerns regarding this, please contact our customer support for assistance.\n",
      "\n",
      "Query: How long does shipping take?\n",
      "Expected Response: We'd be happy to provide an estimate. Can you please provide your shipping destination and the product name or SKU?\n",
      "Generated Response: The shipping time can vary depending on your location and the shipping method chosen. Generally, standard shipping takes around 3-7 business days, while expedited shipping may arrive sooner. You can track your order using the tracking number provided in the shipping confirmation email.\n",
      "\n",
      "Query: I was charged twice for my order.\n",
      "Expected Response: We apologize for the inconvenience. Can you please provide your order number so we can investigate and resolve the issue?\n",
      "Generated Response: We apologize for the error. Please provide your order number and contact our customer support team with details of the duplicate charge so we can assist you in resolving this issue promptly.\n",
      "\n",
      "Query: Where can I find your sizing chart?\n",
      "Expected Response: We'd be happy to help. Can you please provide the product name or SKU so we can direct you to the appropriate sizing chart?\n",
      "Generated Response: You can find our sizing chart on the product page of the item you are interested in. If you need further assistance, feel free to reach out to our customer support team.\n",
      "\n",
      "Query: I need technical support for a product.\n",
      "Expected Response: We're here to help. Can you please provide the product name, SKU, or serial number, and a description of the issue you're experiencing?\n",
      "Generated Response: For technical support for a product, please contact our technical support team at [contact information]. They will assist you with any technical issues you may be experiencing.\n",
      "\n",
      "Query: Can I exchange an item for a different color?\n",
      "Expected Response: Certainly. Can you please provide your order number and the details of the item you'd like to exchange?\n",
      "Generated Response: Yes, exchanges for different colors are possible, subject to availability. Please provide your order number and the preferred color for the exchange, and we will assist you further with the process.\n",
      "\n",
      "Query: How do I apply for a store credit card?\n",
      "Expected Response: Thank you for your interest. Can you please provide your email address so we can send you information on how to apply?\n",
      "Generated Response: To apply for a store credit card, you can usually visit the store's website or go to a physical store location to pick up an application form. Alternatively, you may also be able to apply online through the credit card issuer's website. If you need more specific instructions or have any questions, please feel free to contact the store's customer service for guidance on the application process.\n",
      "\n",
      "Query: Where is your store located?\n",
      "Expected Response: We'd be happy to help you find a store near you. Can you please provide your city and state or zip code?\n",
      "Generated Response: Our store is located at [insert address]. You can also find our store location on our website or contact our customer support for assistance.\n",
      "\n",
      "Query: I can't log into my account.\n",
      "Expected Response: We apologize for the inconvenience. Can you please provide your account email so we can help you troubleshoot the issue?\n",
      "Generated Response: If you are experiencing trouble logging into your account, you can try resetting your password. If the issue persists, please reach out to our customer support for further assistance.\n",
      "\n",
      "Query: Do you offer gift wrapping?\n",
      "Expected Response: We do offer gift wrapping for select items. Can you please provide the product name or SKU so we can confirm if gift wrapping is available?\n",
      "Generated Response: Yes, we offer gift wrapping services for an additional fee. During the checkout process, you can select the gift wrapping option and add a personalized message if desired.\n",
      "\n",
      "Query: Can I schedule a delivery?\n",
      "Expected Response: Certainly. Can you please provide your order number and the preferred date and time for delivery?\n",
      "Generated Response: It depends on the shipping options available for your order. Please check the tracking information for any available delivery scheduling options, or contact our customer support for further assistance with scheduling a delivery.\n",
      "\n",
      "Query: How do I unsubscribe from your newsletter?\n",
      "Expected Response: We're sorry to see you go. Can you please provide your email address so we can remove you from our mailing list?\n",
      "Generated Response: You can usually find an \"Unsubscribe\" link at the bottom of the newsletter email. Clicking on that link should allow you to easily unsubscribe from our newsletter. If you need further assistance, feel free to reach out to our customer support.\n",
      "\n",
      "Query: What is your return policy?\n",
      "Expected Response: We'd be happy to provide information on our return policy. Can you please provide the product name or SKU so we can give you the most accurate information?\n",
      "Generated Response: Our return policy allows for returns within 30 days of purchase. Please visit our 'Return Policy' page for more details or contact customer support if you require further assistance.\n",
      "\n",
      "Query: Do you offer price matching?\n",
      "Expected Response: We do offer price matching in certain cases. Can you please provide the product name or SKU and the competitor's pricing information?\n",
      "Generated Response: Yes, we do offer price matching. If you find the same product at a lower price from a competitor, please contact us with the details, and we will do our best to match it.\n",
      "\n",
      "Query: Are there any current promotions or sales?\n",
      "Expected Response: We'd be happy to inform you of any current promotions. Can you please provide the product name or SKU you're interested in, or the type of promotion you're looking for?\n",
      "Generated Response: We currently have a promotion for free shipping on orders over $50. Please check our website or social media for any ongoing sales or promotions.\n",
      "\n",
      "Query: My coupon isn't working.\n",
      "Expected Response: We apologize for the inconvenience. Can you please provide the coupon code and the product name or SKU you're trying to apply it to?\n",
      "Generated Response: Please ensure that the coupon code is entered correctly, and that it is still valid. If you continue to experience issues, please reach out to our customer support team for further assistance.\n",
      "\n",
      "Query: Can you help me with a product recommendation?\n",
      "Expected Response: Of course! Can you please provide some details about what you're looking for, such as product type, features, or price range?\n",
      "Generated Response: Of course! I'd be happy to help you with a product recommendation. Could you please provide me with some details about what you're looking for or the type of product you need assistance with?\n",
      "\n",
      "Query: Do you offer international shipping?\n",
      "Expected Response: We'd be happy to help. Can you please provide your shipping destination and the product name or SKU you're interested in?\n",
      "Generated Response: Yes, we offer international shipping to select countries. Please provide your shipping address so we can check if we deliver to your location. If you have any further questions about international shipping, feel free to ask.\n",
      "\n",
      "Query: Can I place an order over the phone?\n",
      "Expected Response: Certainly. Can you please provide your phone number and the best time to reach you, and one of our representatives will contact you to place the order?\n",
      "Generated Response: Yes, you can place an order over the phone by contacting our customer support team at [phone number]. They will assist you in placing your order.\n",
      "\n",
      "Query: How do I know if my order went through?\n",
      "Expected Response: We can help you with that. Can you please provide your account email or order number so we can check the status for you?\n",
      "Generated Response: Once you've completed your order, you should receive a confirmation email with your order details. If you haven't received a confirmation email, please check your spam folder. You can also log into your account on our website to view your order history and verify if your order went through. If you're still unsure, feel free to contact our customer support team for further assistance.\n",
      "\n",
      "Query: Can I use multiple promo codes on one order?\n",
      "Expected Response: In most cases, only one promo code can be applied per order. Can you please provide the promo codes you're trying to use so we can check their compatibility?\n",
      "Generated Response: Our system typically allows for the use of only one promo code per order. If you have multiple promo codes you would like to apply, please contact customer support for assistance.\n",
      "\n",
      "Query: What are your customer service hours?\n",
      "Expected Response: Our customer service team is available 24/7 to assist you. Please feel free to reach out with any questions or concerns.\n",
      "Generated Response: Our customer service hours are from 9:00 AM to 6:00 PM (EST) Monday to Friday. Feel free to reach out to us during those hours for assistance with any inquiries or issues.\n",
      "\n",
      "Query: Where can I find the user manual for my product?\n",
      "Expected Response: We'd be happy to help. Can you please provide the product name, SKU, or serial number so we can direct you to the appropriate user manual?\n",
      "Generated Response: You can find the user manual for your product either in the packaging that the product came in or by visiting the manufacturer's website and searching for your specific product's model number. If you're unable to locate the user manual, feel free to reach out to customer support for further assistance.\n",
      "\n",
      "Query: Do you offer a warranty on your products?\n",
      "Expected Response: We do offer warranties on select products. Can you please provide the product name or SKU so we can provide you with warranty information?\n",
      "Generated Response: Yes, we offer a warranty on our products. Please check the product page or contact our customer support for specific details on the warranty coverage for the product you are interested in.\n",
      "\n",
      "Query: Can I place an order for in-store pickup?\n",
      "Expected Response: Certainly. Can you please provide the product name or SKU and the store location where you'd like to pick up your order?\n",
      "Generated Response: Yes, you can usually place an order for in-store pickup on our website or contact our customer support to arrange for this option. Let me know if you need any help with the process.\n",
      "\n",
      "Query: How do I sign up for your rewards program?\n",
      "Expected Response: Thank you for your interest in our rewards program. Can you please provide your email address so we can send you information on how to sign up?\n",
      "Generated Response: To sign up for our rewards program, you can visit our website and look for the \"Rewards Program\" section. There should be a sign-up option available where you can create an account and start earning rewards. If you need further assistance, feel free to contact our customer support team.\n",
      "\n",
      "Query: Can I pay with a gift card online?\n",
      "Expected Response: Yes, you can use gift cards for online purchases. Can you please provide the gift card number and the product name or SKU you're interested in?\n",
      "Generated Response: Yes, you can typically pay with a gift card online. During the checkout process, there is usually an option to enter your gift card information as a form of payment. If you encounter any issues while trying to pay with a gift card, please reach out to customer support for assistance.\n",
      "\n",
      "Query: I can't find my order confirmation email.\n",
      "Expected Response: We apologize for the inconvenience. Can you please provide your account email or order number so we can resend the confirmation email?\n",
      "Generated Response: If you can't find your order confirmation email, please check your spam or junk folder as it may have been filtered there. You can also log into your account on our website to view your order history and details. If you still can't locate it, please contact our customer support for further assistance.\n",
      "\n",
      "Query: Do you offer a military discount?\n",
      "Expected Response: Yes, we do offer a military discount. Can you please provide your military ID or email address so we can apply the discount to your account?\n",
      "Generated Response: Yes, we offer a military discount. Please provide proof of military service, such as a military ID, and we will be happy to apply the discount to your order. Thank you for your service!\n",
      "\n",
      "Query: What is the processing time for my order?\n",
      "Expected Response: We'd be happy to provide an estimate. Can you please provide your order number or the product name or SKU?\n",
      "Generated Response: The processing time for your order depends on the items you have purchased and our current order volume. You can check the estimated processing time for your specific order by logging into your account and viewing the order details. If you need further assistance, feel free to reach out to our customer support team.\n",
      "\n",
      "Query: How do I update my shipping preferences?\n",
      "Expected Response: We can help with that. Can you please provide your account email so we can guide you through updating your shipping preferences?\n",
      "Generated Response: You can update your shipping preferences by logging into your account and navigating to the 'Shipping Preferences' or 'Delivery Settings' section. From there, you should be able to modify your preferences such as shipping speed, delivery address, and more. If you encounter any issues, feel free to reach out to our customer support for further assistance.\n",
      "\n",
      "Query: Is my payment information secure?\n",
      "Expected Response: Yes, we take security very seriously. Can you please provide your account email so we can verify the security measures in place for your payment information?\n",
      "Generated Response: Yes, we take the security of your payment information seriously. Our website uses encrypted connections to protect your data, and we follow industry-standard practices to ensure the security of your payment details. If you have any concerns or questions about the security of your payment information, please feel free to contact us.\n",
      "\n",
      "Query: Can I pre-order an item?\n",
      "Expected Response: Certainly. Can you please provide the product name or SKU and your email address so we can notify you when pre-orders are available?\n",
      "Generated Response: Yes, you can usually pre-order items depending on availability and specific product details. You can check the product page or contact customer support for more information on pre-ordering.\n",
      "\n",
      "Query: How do I use a gift card in-store?\n",
      "Expected Response: To use a gift card in-store, simply present the gift card at the time of purchase. Can you please provide the gift card number so we can check the balance for you?\n",
      "Generated Response: To use a gift card in-store, simply present the gift card to the cashier during checkout. They will be able to process your payment using the gift card. If you have any specific instructions or questions about using a gift card, feel free to reach out to our customer support for further assistance.\n",
      "\n",
      "Query: Do you have a loyalty program?\n",
      "Expected Response: Yes, we do have a loyalty program. Can you please provide your email address so we can send you information on how to join and enjoy the benefits?\n",
      "Generated Response: Yes, we have a loyalty program that rewards our customers with exclusive benefits, discounts, and special offers based on their purchase history with us. You can sign up for our loyalty program on our website or contact customer support for more information.\n",
      "\n",
      "Query: Is there a mobile app for your store?\n",
      "Expected Response: Yes, we do have a mobile app. Can you please provide your email address so we can send you a link to download the app and instructions on how to use it?\n",
      "Generated Response: Yes, we have a mobile app available for both iOS and Android devices. You can download it from the App Store or Google Play Store by searching for our store name. The app offers a convenient way to browse and shop our products.\n",
      "\n",
      "Query: I need help assembling my product.\n",
      "Expected Response: We're here to help. Can you please provide the product name, SKU, or serial number, and a description of the issue you're experiencing during assembly?\n",
      "Generated Response: We're here to help! Please provide the name or model of the product you need assistance with, and we can provide you with assembly instructions or direct you to the appropriate resources.\n",
      "\n",
      "Query: Do you offer financing options?\n",
      "Expected Response: We do offer financing options for select purchases. Can you please provide the product name or SKU and your email address so we can send you more information?\n",
      "Generated Response: Yes, we offer financing options through our partnership with select financing providers. You can explore financing options during the checkout process or contact our customer support for more information on available financing plans.\n",
      "\n",
      "Query: Can I reserve an item in-store?\n",
      "Expected Response: Certainly. Can you please provide the product name or SKU and the store location where you'd like to reserve the item?\n",
      "Generated Response: Typically, you can reserve an item in-store by contacting the store directly. However, it's a good idea to check with the specific store's policies and procedures for item reservations.\n",
      "\n",
      "Query: How do I get a price adjustment for a recent purchase?\n",
      "Expected Response: We'd be happy to help. Can you please provide your order number and the product name or SKU for the item you'd like a price adjustment on?\n",
      "Generated Response: To request a price adjustment for a recent purchase, please contact our customer support team with your order number and details of the purchase. Our representatives will assist you with the price adjustment process.\n",
      "\n",
      "Query: How do I change my email preferences?\n",
      "Expected Response: We can help with that. Can you please provide your account email so we can guide you through updating your email preferences?\n",
      "Generated Response: You can change your email preferences by logging into your account and navigating to the 'Email Preferences' or 'Notifications' section. If you're unable to find it, please reach out to our customer support for assistance.\n",
      "\n",
      "Query: Can I use my store credit online?\n",
      "Expected Response: Yes, you can use store credit for online purchases. Can you please provide the store credit number and the product name or SKU you're interested in?\n",
      "Generated Response: Yes, you can typically use store credit online by applying it at the checkout page or during the payment process. If you encounter any issues or have specific questions about using your store credit, please reach out to our customer support for assistance.\n",
      "\n",
      "Query: What are the washing instructions for this item?\n",
      "Expected Response: We'd be happy to help. Can you please provide the product name or SKU so we can provide you with the proper washing instructions?\n",
      "Generated Response: The washing instructions for your item can usually be found on the care label attached to the garment. If you need any further assistance with specific washing instructions, feel free to contact our customer support for more details.\n",
      "\n",
      "Query: Can I get a replacement part for my product?\n",
      "Expected Response: Certainly. Can you please provide the product name, SKU, or serial number, and a description of the part you need?\n",
      "Generated Response: Certainly! Please provide the details of the product and the specific part you need to be replaced, and we will assist you in getting a replacement part.\n",
      "\n",
      "Query: Do you offer free shipping?\n",
      "Expected Response: We do offer free shipping on select orders. Can you please provide the product name or SKU and your shipping destination so we can check if your order qualifies?\n",
      "Generated Response: Yes, we offer free shipping on orders over a certain threshold amount. You can check our website or contact customer support for more information on our free shipping policy and any ongoing promotions.\n",
      "\n",
      "Query: Can I place a custom order?\n",
      "Expected Response: We'd be happy to assist you. Can you please provide the product name or SKU and a description of the customizations you'd like?\n",
      "Generated Response: Yes, we do offer custom orders for some products. Please provide details of what you are looking for, and we will do our best to accommodate your request. Feel free to reach out to our customer support for more information on placing a custom order.\n",
      "\n",
      "Query: How do I report a problem with your website?\n",
      "Expected Response: We appreciate your feedback. Can you please provide a description of the issue you're experiencing and your email address so we can follow up with you?\n",
      "Generated Response: You can report a problem with our website by contacting our customer support team through the \"Contact Us\" page on our website. Please provide details of the issue you are experiencing so we can address it promptly. Thank you for bringing this to our attention.\n",
      "\n",
      "Query: What is your policy on price adjustments?\n",
      "Expected Response: We'd be happy to provide information on our price adjustment policy. Can you please provide the product name or SKU so we can give you the most accurate information?\n",
      "Generated Response: Our policy on price adjustments varies depending on the specific circumstances. Please contact our customer support team with the details of your situation, and we will do our best to assist you.\n",
      "\n",
      "Query: Do you have any upcoming sales or events?\n",
      "Expected Response: We'd be happy to inform you of any upcoming sales or events. Can you please provide your email address so we can keep you updated?\n",
      "Generated Response: I'm sorry, but I don't have real-time information on upcoming sales or events. I recommend checking our website or subscribing to our newsletter for the latest updates on promotions and events.\n",
      "\n",
      "Query: How do I schedule a consultation or appointment?\n",
      "Expected Response: We'd be happy to help. Can you please provide your name, phone number, and the service you're interested in so we can schedule your appointment?\n",
      "Generated Response: To schedule a consultation or appointment, please contact our customer service team or visit our website to book an appointment online. Let me know if you need further assistance.\n",
      "\n",
      "Query: Can I get a copy of my receipt?\n",
      "Expected Response: Certainly. Can you please provide your order number or account email so we can locate your receipt and send you a copy?\n",
      "Generated Response: Certainly! You can log into your account and access your order history to view and print your receipt. If you need any further assistance, feel free to reach out to our customer support team.\n",
      "\n",
      "Query: Can I use a competitor's coupon at your store?\n",
      "Expected Response: In some cases, we may accept competitor coupons. Can you please provide the competitor's coupon code and the product name or SKU you'd like to apply it to?\n",
      "Generated Response: We appreciate your interest in using coupons, however, we only accept our own issued coupons at our store. If you have any other questions or need further assistance, feel free to let us know.\n",
      "\n",
      "Query: Do you have a recycling program?\n",
      "Expected Response: Yes, we do have a recycling program. Can you please provide your email address so we can send you information on how to participate?\n",
      "Generated Response: I'm sorry, but currently, we do not have a recycling program in place. However, we are continuously looking for ways to implement more sustainable practices. Thank you for your interest in recycling.\n",
      "\n",
      "Query: How do I report a lost or stolen gift card?\n",
      "Expected Response: We're sorry to hear that. Can you please provide the gift card number, if available, and your email address so we can assist you further?\n",
      "Generated Response: If your gift card has been lost or stolen, please contact our customer support as soon as possible to report it. We will assist you in safeguarding your gift card balance and potentially replacing the lost or stolen card.\n",
      "\n"
     ]
    }
   ],
   "source": [
    "def generate_gpt3_response(prompt):\n",
    "    full_prompt = few_shot_examples + \"\\n\\nQuery: \" + prompt + \"\\nResponse:\"\n",
    "    response = openai.ChatCompletion.create(\n",
    "        model=\"gpt-3.5-turbo\",\n",
    "        messages=[\n",
    "            {\"role\": \"system\", \"content\": \"You are a helpful assistant.\"},\n",
    "            {\"role\": \"user\", \"content\": full_prompt}\n",
    "        ],\n",
    "        max_tokens=150\n",
    "    )\n",
    "    return response['choices'][0]['message']['content'].strip()\n",
    "\n",
    "# Generate responses for the entire dataset\n",
    "queries = dataset['train']['query']\n",
    "expected_responses = dataset['train']['response']\n",
    "gpt3_responses = [generate_gpt3_response(query) for query in queries]\n",
    "\n",
    "# Display a few examples\n",
    "for i in range(len(queries)):\n",
    "    print(f\"Query: {queries[i]}\")\n",
    "    print(f\"Expected Response: {expected_responses[i]}\")\n",
    "    print(f\"Generated Response: {gpt3_responses[i]}\\n\")"
   ]
  },
  {
   "cell_type": "markdown",
   "metadata": {
    "id": "AWcVDQesMMsK"
   },
   "source": [
    "### Check GPT-3 Response for a Custom Query (User demonstartion)\n",
    "Use the function to generate responses for a custom query."
   ]
  },
  {
   "cell_type": "code",
   "execution_count": 14,
   "metadata": {
    "colab": {
     "base_uri": "https://localhost:8080/"
    },
    "id": "yzo04EYCMMsK",
    "outputId": "45c420d8-bdf2-41a1-adb9-710f8978cc71"
   },
   "outputs": [
    {
     "name": "stdout",
     "output_type": "stream",
     "text": [
      "Query: What is the status of my warranty claim\n",
      "Response: To inquire about the status of your warranty claim, please provide your warranty claim number or any other relevant information, and we will be happy to assist you in checking the status.\n"
     ]
    }
   ],
   "source": [
    "# Example usage for custom query\n",
    "custom_query = \"What is the status of my warranty claim\"\n",
    "custom_response = generate_gpt3_response(custom_query)\n",
    "print(f\"Query: {custom_query}\\nResponse: {custom_response}\")"
   ]
  },
  {
   "cell_type": "code",
   "execution_count": 12,
   "metadata": {
    "colab": {
     "base_uri": "https://localhost:8080/"
    },
    "id": "B8ORImGEjQXL",
    "outputId": "19064430-4874-4309-9be4-32d170d460a6"
   },
   "outputs": [
    {
     "name": "stdout",
     "output_type": "stream",
     "text": [
      "Query: How do I reset my password?\n",
      "Response: To reset your password, go to the login page and click on the \"Forgot Password?\" link. You will be prompted to enter your email address associated with your account, and instructions on how to reset your password will be sent to you. If you encounter any issues, feel free to reach out to our customer support team for assistance.\n"
     ]
    }
   ],
   "source": [
    "# Example usage for custom query\n",
    "custom_query2 = \"How do I reset my password?\"\n",
    "custom_response2 = generate_gpt3_response(custom_query2)\n",
    "print(f\"Query: {custom_query2}\\nResponse: {custom_response2}\")"
   ]
  },
  {
   "cell_type": "code",
   "execution_count": 15,
   "metadata": {
    "colab": {
     "base_uri": "https://localhost:8080/"
    },
    "id": "wtLh4IJQpA87",
    "outputId": "9b3f0c46-8ed2-43b4-cb0e-d1f92dac8340"
   },
   "outputs": [
    {
     "name": "stdout",
     "output_type": "stream",
     "text": [
      "Query: my order isnt delivered\n",
      "Response: We apologize for the inconvenience. Can you please provide your order number so we can look into the status of your delivery?\n"
     ]
    }
   ],
   "source": [
    "# Example usage for custom query\n",
    "custom_query3 = \"my order isnt delivered\"\n",
    "custom_response3 = generate_gpt3_response(custom_query3)\n",
    "print(f\"Query: {custom_query3}\\nResponse: {custom_response3}\")"
   ]
  },
  {
   "cell_type": "code",
   "execution_count": 17,
   "metadata": {
    "colab": {
     "base_uri": "https://localhost:8080/"
    },
    "id": "KnsxqKqtpBdb",
    "outputId": "588f2eb1-f86f-4a4c-d2a8-8c414cce9cc5"
   },
   "outputs": [
    {
     "name": "stdout",
     "output_type": "stream",
     "text": [
      "Query: i cant place order\n",
      "Response: If you are experiencing difficulties placing an order, please ensure that all required fields are filled out correctly, including payment information and shipping address. If you continue to have issues, kindly contact our customer support for further assistance in placing your order.\n"
     ]
    }
   ],
   "source": [
    "# Example usage for custom query\n",
    "custom_query4 = \"i cant place order\"\n",
    "custom_response4 = generate_gpt3_response(custom_query4)\n",
    "print(f\"Query: {custom_query4}\\nResponse: {custom_response4}\")"
   ]
  },
  {
   "cell_type": "code",
   "execution_count": 18,
   "metadata": {
    "colab": {
     "base_uri": "https://localhost:8080/"
    },
    "id": "gq6A9fe5pw1T",
    "outputId": "62d1e1a2-80f3-4ddd-f8dc-9d59daa0bcb3"
   },
   "outputs": [
    {
     "name": "stdout",
     "output_type": "stream",
     "text": [
      "Query: I have cash do you have cod\n",
      "Response: We currently do not offer Cash on Delivery (COD) as a payment option. We accept various payment methods such as credit/debit cards, PayPal, etc. If you have any concerns or need assistance with payment options, please feel free to let us know.\n"
     ]
    }
   ],
   "source": [
    "# Example usage for custom query\n",
    "custom_query5 = \"I have cash do you have cod\"\n",
    "custom_response5 = generate_gpt3_response(custom_query5)\n",
    "print(f\"Query: {custom_query5}\\nResponse: {custom_response5}\")"
   ]
  }
 ],
 "metadata": {
  "colab": {
   "provenance": []
  },
  "kernelspec": {
   "display_name": "Python 3 (ipykernel)",
   "language": "python",
   "name": "python3"
  },
  "language_info": {
   "codemirror_mode": {
    "name": "ipython",
    "version": 3
   },
   "file_extension": ".py",
   "mimetype": "text/x-python",
   "name": "python",
   "nbconvert_exporter": "python",
   "pygments_lexer": "ipython3",
   "version": "3.10.9"
  },
  "widgets": {
   "application/vnd.jupyter.widget-state+json": {
    "075067b133584b539e9471a0e7badc55": {
     "model_module": "@jupyter-widgets/controls",
     "model_module_version": "1.5.0",
     "model_name": "HTMLModel",
     "state": {
      "_dom_classes": [],
      "_model_module": "@jupyter-widgets/controls",
      "_model_module_version": "1.5.0",
      "_model_name": "HTMLModel",
      "_view_count": null,
      "_view_module": "@jupyter-widgets/controls",
      "_view_module_version": "1.5.0",
      "_view_name": "HTMLView",
      "description": "",
      "description_tooltip": null,
      "layout": "IPY_MODEL_9f891f6b2d4c4f2794278b11f1b2e83c",
      "placeholder": "​",
      "style": "IPY_MODEL_a0d60325bc184e57b33e17b18bf30bd7",
      "value": "Generating train split: 100%"
     }
    },
    "092ed401e58c444c8efd73034d0f1dd8": {
     "model_module": "@jupyter-widgets/controls",
     "model_module_version": "1.5.0",
     "model_name": "FloatProgressModel",
     "state": {
      "_dom_classes": [],
      "_model_module": "@jupyter-widgets/controls",
      "_model_module_version": "1.5.0",
      "_model_name": "FloatProgressModel",
      "_view_count": null,
      "_view_module": "@jupyter-widgets/controls",
      "_view_module_version": "1.5.0",
      "_view_name": "ProgressView",
      "bar_style": "success",
      "description": "",
      "description_tooltip": null,
      "layout": "IPY_MODEL_7b3b1801a94b4996a01229958b8a7b23",
      "max": 74,
      "min": 0,
      "orientation": "horizontal",
      "style": "IPY_MODEL_b695fb96005d4e07b8af95d333cedd20",
      "value": 74
     }
    },
    "357cf1dd2e4742ae8de9b52b74d277ae": {
     "model_module": "@jupyter-widgets/base",
     "model_module_version": "1.2.0",
     "model_name": "LayoutModel",
     "state": {
      "_model_module": "@jupyter-widgets/base",
      "_model_module_version": "1.2.0",
      "_model_name": "LayoutModel",
      "_view_count": null,
      "_view_module": "@jupyter-widgets/base",
      "_view_module_version": "1.2.0",
      "_view_name": "LayoutView",
      "align_content": null,
      "align_items": null,
      "align_self": null,
      "border": null,
      "bottom": null,
      "display": null,
      "flex": null,
      "flex_flow": null,
      "grid_area": null,
      "grid_auto_columns": null,
      "grid_auto_flow": null,
      "grid_auto_rows": null,
      "grid_column": null,
      "grid_gap": null,
      "grid_row": null,
      "grid_template_areas": null,
      "grid_template_columns": null,
      "grid_template_rows": null,
      "height": null,
      "justify_content": null,
      "justify_items": null,
      "left": null,
      "margin": null,
      "max_height": null,
      "max_width": null,
      "min_height": null,
      "min_width": null,
      "object_fit": null,
      "object_position": null,
      "order": null,
      "overflow": null,
      "overflow_x": null,
      "overflow_y": null,
      "padding": null,
      "right": null,
      "top": null,
      "visibility": null,
      "width": null
     }
    },
    "3b4de521877942be86b61b1593f63b8b": {
     "model_module": "@jupyter-widgets/controls",
     "model_module_version": "1.5.0",
     "model_name": "HBoxModel",
     "state": {
      "_dom_classes": [],
      "_model_module": "@jupyter-widgets/controls",
      "_model_module_version": "1.5.0",
      "_model_name": "HBoxModel",
      "_view_count": null,
      "_view_module": "@jupyter-widgets/controls",
      "_view_module_version": "1.5.0",
      "_view_name": "HBoxView",
      "box_style": "",
      "children": [
       "IPY_MODEL_075067b133584b539e9471a0e7badc55",
       "IPY_MODEL_092ed401e58c444c8efd73034d0f1dd8",
       "IPY_MODEL_f528d767d1474a1fa328afe39ed838aa"
      ],
      "layout": "IPY_MODEL_9ba49ab1c35f4437acb401832f3a2992"
     }
    },
    "493d553b72364b8bbadf682b8b2f6f08": {
     "model_module": "@jupyter-widgets/base",
     "model_module_version": "1.2.0",
     "model_name": "LayoutModel",
     "state": {
      "_model_module": "@jupyter-widgets/base",
      "_model_module_version": "1.2.0",
      "_model_name": "LayoutModel",
      "_view_count": null,
      "_view_module": "@jupyter-widgets/base",
      "_view_module_version": "1.2.0",
      "_view_name": "LayoutView",
      "align_content": null,
      "align_items": null,
      "align_self": null,
      "border": null,
      "bottom": null,
      "display": null,
      "flex": null,
      "flex_flow": null,
      "grid_area": null,
      "grid_auto_columns": null,
      "grid_auto_flow": null,
      "grid_auto_rows": null,
      "grid_column": null,
      "grid_gap": null,
      "grid_row": null,
      "grid_template_areas": null,
      "grid_template_columns": null,
      "grid_template_rows": null,
      "height": null,
      "justify_content": null,
      "justify_items": null,
      "left": null,
      "margin": null,
      "max_height": null,
      "max_width": null,
      "min_height": null,
      "min_width": null,
      "object_fit": null,
      "object_position": null,
      "order": null,
      "overflow": null,
      "overflow_x": null,
      "overflow_y": null,
      "padding": null,
      "right": null,
      "top": null,
      "visibility": null,
      "width": null
     }
    },
    "590f031b13ff434cbbcc2c10731b4169": {
     "model_module": "@jupyter-widgets/controls",
     "model_module_version": "1.5.0",
     "model_name": "HTMLModel",
     "state": {
      "_dom_classes": [],
      "_model_module": "@jupyter-widgets/controls",
      "_model_module_version": "1.5.0",
      "_model_name": "HTMLModel",
      "_view_count": null,
      "_view_module": "@jupyter-widgets/controls",
      "_view_module_version": "1.5.0",
      "_view_name": "HTMLView",
      "description": "",
      "description_tooltip": null,
      "layout": "IPY_MODEL_e93a1337e73e43d5ae3a4c80ac075d08",
      "placeholder": "​",
      "style": "IPY_MODEL_7793c3bdff0d4d53b8f591509cb82817",
      "value": " 12.4k/12.4k [00:00&lt;00:00, 189kB/s]"
     }
    },
    "5f4fdd8431ae4d96ab2cd528e18965f7": {
     "model_module": "@jupyter-widgets/controls",
     "model_module_version": "1.5.0",
     "model_name": "DescriptionStyleModel",
     "state": {
      "_model_module": "@jupyter-widgets/controls",
      "_model_module_version": "1.5.0",
      "_model_name": "DescriptionStyleModel",
      "_view_count": null,
      "_view_module": "@jupyter-widgets/base",
      "_view_module_version": "1.2.0",
      "_view_name": "StyleView",
      "description_width": ""
     }
    },
    "7793c3bdff0d4d53b8f591509cb82817": {
     "model_module": "@jupyter-widgets/controls",
     "model_module_version": "1.5.0",
     "model_name": "DescriptionStyleModel",
     "state": {
      "_model_module": "@jupyter-widgets/controls",
      "_model_module_version": "1.5.0",
      "_model_name": "DescriptionStyleModel",
      "_view_count": null,
      "_view_module": "@jupyter-widgets/base",
      "_view_module_version": "1.2.0",
      "_view_name": "StyleView",
      "description_width": ""
     }
    },
    "789b0fedf72e47adafcff82eae217e4f": {
     "model_module": "@jupyter-widgets/base",
     "model_module_version": "1.2.0",
     "model_name": "LayoutModel",
     "state": {
      "_model_module": "@jupyter-widgets/base",
      "_model_module_version": "1.2.0",
      "_model_name": "LayoutModel",
      "_view_count": null,
      "_view_module": "@jupyter-widgets/base",
      "_view_module_version": "1.2.0",
      "_view_name": "LayoutView",
      "align_content": null,
      "align_items": null,
      "align_self": null,
      "border": null,
      "bottom": null,
      "display": null,
      "flex": null,
      "flex_flow": null,
      "grid_area": null,
      "grid_auto_columns": null,
      "grid_auto_flow": null,
      "grid_auto_rows": null,
      "grid_column": null,
      "grid_gap": null,
      "grid_row": null,
      "grid_template_areas": null,
      "grid_template_columns": null,
      "grid_template_rows": null,
      "height": null,
      "justify_content": null,
      "justify_items": null,
      "left": null,
      "margin": null,
      "max_height": null,
      "max_width": null,
      "min_height": null,
      "min_width": null,
      "object_fit": null,
      "object_position": null,
      "order": null,
      "overflow": null,
      "overflow_x": null,
      "overflow_y": null,
      "padding": null,
      "right": null,
      "top": null,
      "visibility": null,
      "width": null
     }
    },
    "7a71484b8914428da4cff2b0e4e451f4": {
     "model_module": "@jupyter-widgets/controls",
     "model_module_version": "1.5.0",
     "model_name": "HTMLModel",
     "state": {
      "_dom_classes": [],
      "_model_module": "@jupyter-widgets/controls",
      "_model_module_version": "1.5.0",
      "_model_name": "HTMLModel",
      "_view_count": null,
      "_view_module": "@jupyter-widgets/controls",
      "_view_module_version": "1.5.0",
      "_view_name": "HTMLView",
      "description": "",
      "description_tooltip": null,
      "layout": "IPY_MODEL_493d553b72364b8bbadf682b8b2f6f08",
      "placeholder": "​",
      "style": "IPY_MODEL_5f4fdd8431ae4d96ab2cd528e18965f7",
      "value": "Downloading data: 100%"
     }
    },
    "7b3b1801a94b4996a01229958b8a7b23": {
     "model_module": "@jupyter-widgets/base",
     "model_module_version": "1.2.0",
     "model_name": "LayoutModel",
     "state": {
      "_model_module": "@jupyter-widgets/base",
      "_model_module_version": "1.2.0",
      "_model_name": "LayoutModel",
      "_view_count": null,
      "_view_module": "@jupyter-widgets/base",
      "_view_module_version": "1.2.0",
      "_view_name": "LayoutView",
      "align_content": null,
      "align_items": null,
      "align_self": null,
      "border": null,
      "bottom": null,
      "display": null,
      "flex": null,
      "flex_flow": null,
      "grid_area": null,
      "grid_auto_columns": null,
      "grid_auto_flow": null,
      "grid_auto_rows": null,
      "grid_column": null,
      "grid_gap": null,
      "grid_row": null,
      "grid_template_areas": null,
      "grid_template_columns": null,
      "grid_template_rows": null,
      "height": null,
      "justify_content": null,
      "justify_items": null,
      "left": null,
      "margin": null,
      "max_height": null,
      "max_width": null,
      "min_height": null,
      "min_width": null,
      "object_fit": null,
      "object_position": null,
      "order": null,
      "overflow": null,
      "overflow_x": null,
      "overflow_y": null,
      "padding": null,
      "right": null,
      "top": null,
      "visibility": null,
      "width": null
     }
    },
    "81acb80d43c145ef8bf38c90fad345ac": {
     "model_module": "@jupyter-widgets/controls",
     "model_module_version": "1.5.0",
     "model_name": "FloatProgressModel",
     "state": {
      "_dom_classes": [],
      "_model_module": "@jupyter-widgets/controls",
      "_model_module_version": "1.5.0",
      "_model_name": "FloatProgressModel",
      "_view_count": null,
      "_view_module": "@jupyter-widgets/controls",
      "_view_module_version": "1.5.0",
      "_view_name": "ProgressView",
      "bar_style": "success",
      "description": "",
      "description_tooltip": null,
      "layout": "IPY_MODEL_357cf1dd2e4742ae8de9b52b74d277ae",
      "max": 12434,
      "min": 0,
      "orientation": "horizontal",
      "style": "IPY_MODEL_f8384fab29ee458a88178d75dffa064d",
      "value": 12434
     }
    },
    "82b51cda51d64977bf198855c17ac055": {
     "model_module": "@jupyter-widgets/controls",
     "model_module_version": "1.5.0",
     "model_name": "DescriptionStyleModel",
     "state": {
      "_model_module": "@jupyter-widgets/controls",
      "_model_module_version": "1.5.0",
      "_model_name": "DescriptionStyleModel",
      "_view_count": null,
      "_view_module": "@jupyter-widgets/base",
      "_view_module_version": "1.2.0",
      "_view_name": "StyleView",
      "description_width": ""
     }
    },
    "9ba49ab1c35f4437acb401832f3a2992": {
     "model_module": "@jupyter-widgets/base",
     "model_module_version": "1.2.0",
     "model_name": "LayoutModel",
     "state": {
      "_model_module": "@jupyter-widgets/base",
      "_model_module_version": "1.2.0",
      "_model_name": "LayoutModel",
      "_view_count": null,
      "_view_module": "@jupyter-widgets/base",
      "_view_module_version": "1.2.0",
      "_view_name": "LayoutView",
      "align_content": null,
      "align_items": null,
      "align_self": null,
      "border": null,
      "bottom": null,
      "display": null,
      "flex": null,
      "flex_flow": null,
      "grid_area": null,
      "grid_auto_columns": null,
      "grid_auto_flow": null,
      "grid_auto_rows": null,
      "grid_column": null,
      "grid_gap": null,
      "grid_row": null,
      "grid_template_areas": null,
      "grid_template_columns": null,
      "grid_template_rows": null,
      "height": null,
      "justify_content": null,
      "justify_items": null,
      "left": null,
      "margin": null,
      "max_height": null,
      "max_width": null,
      "min_height": null,
      "min_width": null,
      "object_fit": null,
      "object_position": null,
      "order": null,
      "overflow": null,
      "overflow_x": null,
      "overflow_y": null,
      "padding": null,
      "right": null,
      "top": null,
      "visibility": null,
      "width": null
     }
    },
    "9f891f6b2d4c4f2794278b11f1b2e83c": {
     "model_module": "@jupyter-widgets/base",
     "model_module_version": "1.2.0",
     "model_name": "LayoutModel",
     "state": {
      "_model_module": "@jupyter-widgets/base",
      "_model_module_version": "1.2.0",
      "_model_name": "LayoutModel",
      "_view_count": null,
      "_view_module": "@jupyter-widgets/base",
      "_view_module_version": "1.2.0",
      "_view_name": "LayoutView",
      "align_content": null,
      "align_items": null,
      "align_self": null,
      "border": null,
      "bottom": null,
      "display": null,
      "flex": null,
      "flex_flow": null,
      "grid_area": null,
      "grid_auto_columns": null,
      "grid_auto_flow": null,
      "grid_auto_rows": null,
      "grid_column": null,
      "grid_gap": null,
      "grid_row": null,
      "grid_template_areas": null,
      "grid_template_columns": null,
      "grid_template_rows": null,
      "height": null,
      "justify_content": null,
      "justify_items": null,
      "left": null,
      "margin": null,
      "max_height": null,
      "max_width": null,
      "min_height": null,
      "min_width": null,
      "object_fit": null,
      "object_position": null,
      "order": null,
      "overflow": null,
      "overflow_x": null,
      "overflow_y": null,
      "padding": null,
      "right": null,
      "top": null,
      "visibility": null,
      "width": null
     }
    },
    "a0d60325bc184e57b33e17b18bf30bd7": {
     "model_module": "@jupyter-widgets/controls",
     "model_module_version": "1.5.0",
     "model_name": "DescriptionStyleModel",
     "state": {
      "_model_module": "@jupyter-widgets/controls",
      "_model_module_version": "1.5.0",
      "_model_name": "DescriptionStyleModel",
      "_view_count": null,
      "_view_module": "@jupyter-widgets/base",
      "_view_module_version": "1.2.0",
      "_view_name": "StyleView",
      "description_width": ""
     }
    },
    "b695fb96005d4e07b8af95d333cedd20": {
     "model_module": "@jupyter-widgets/controls",
     "model_module_version": "1.5.0",
     "model_name": "ProgressStyleModel",
     "state": {
      "_model_module": "@jupyter-widgets/controls",
      "_model_module_version": "1.5.0",
      "_model_name": "ProgressStyleModel",
      "_view_count": null,
      "_view_module": "@jupyter-widgets/base",
      "_view_module_version": "1.2.0",
      "_view_name": "StyleView",
      "bar_color": null,
      "description_width": ""
     }
    },
    "e3e069f545cb4e4ab5674f14460dc9ef": {
     "model_module": "@jupyter-widgets/controls",
     "model_module_version": "1.5.0",
     "model_name": "HBoxModel",
     "state": {
      "_dom_classes": [],
      "_model_module": "@jupyter-widgets/controls",
      "_model_module_version": "1.5.0",
      "_model_name": "HBoxModel",
      "_view_count": null,
      "_view_module": "@jupyter-widgets/controls",
      "_view_module_version": "1.5.0",
      "_view_name": "HBoxView",
      "box_style": "",
      "children": [
       "IPY_MODEL_7a71484b8914428da4cff2b0e4e451f4",
       "IPY_MODEL_81acb80d43c145ef8bf38c90fad345ac",
       "IPY_MODEL_590f031b13ff434cbbcc2c10731b4169"
      ],
      "layout": "IPY_MODEL_f2261be158534001b5bac762d550813a"
     }
    },
    "e93a1337e73e43d5ae3a4c80ac075d08": {
     "model_module": "@jupyter-widgets/base",
     "model_module_version": "1.2.0",
     "model_name": "LayoutModel",
     "state": {
      "_model_module": "@jupyter-widgets/base",
      "_model_module_version": "1.2.0",
      "_model_name": "LayoutModel",
      "_view_count": null,
      "_view_module": "@jupyter-widgets/base",
      "_view_module_version": "1.2.0",
      "_view_name": "LayoutView",
      "align_content": null,
      "align_items": null,
      "align_self": null,
      "border": null,
      "bottom": null,
      "display": null,
      "flex": null,
      "flex_flow": null,
      "grid_area": null,
      "grid_auto_columns": null,
      "grid_auto_flow": null,
      "grid_auto_rows": null,
      "grid_column": null,
      "grid_gap": null,
      "grid_row": null,
      "grid_template_areas": null,
      "grid_template_columns": null,
      "grid_template_rows": null,
      "height": null,
      "justify_content": null,
      "justify_items": null,
      "left": null,
      "margin": null,
      "max_height": null,
      "max_width": null,
      "min_height": null,
      "min_width": null,
      "object_fit": null,
      "object_position": null,
      "order": null,
      "overflow": null,
      "overflow_x": null,
      "overflow_y": null,
      "padding": null,
      "right": null,
      "top": null,
      "visibility": null,
      "width": null
     }
    },
    "f2261be158534001b5bac762d550813a": {
     "model_module": "@jupyter-widgets/base",
     "model_module_version": "1.2.0",
     "model_name": "LayoutModel",
     "state": {
      "_model_module": "@jupyter-widgets/base",
      "_model_module_version": "1.2.0",
      "_model_name": "LayoutModel",
      "_view_count": null,
      "_view_module": "@jupyter-widgets/base",
      "_view_module_version": "1.2.0",
      "_view_name": "LayoutView",
      "align_content": null,
      "align_items": null,
      "align_self": null,
      "border": null,
      "bottom": null,
      "display": null,
      "flex": null,
      "flex_flow": null,
      "grid_area": null,
      "grid_auto_columns": null,
      "grid_auto_flow": null,
      "grid_auto_rows": null,
      "grid_column": null,
      "grid_gap": null,
      "grid_row": null,
      "grid_template_areas": null,
      "grid_template_columns": null,
      "grid_template_rows": null,
      "height": null,
      "justify_content": null,
      "justify_items": null,
      "left": null,
      "margin": null,
      "max_height": null,
      "max_width": null,
      "min_height": null,
      "min_width": null,
      "object_fit": null,
      "object_position": null,
      "order": null,
      "overflow": null,
      "overflow_x": null,
      "overflow_y": null,
      "padding": null,
      "right": null,
      "top": null,
      "visibility": null,
      "width": null
     }
    },
    "f528d767d1474a1fa328afe39ed838aa": {
     "model_module": "@jupyter-widgets/controls",
     "model_module_version": "1.5.0",
     "model_name": "HTMLModel",
     "state": {
      "_dom_classes": [],
      "_model_module": "@jupyter-widgets/controls",
      "_model_module_version": "1.5.0",
      "_model_name": "HTMLModel",
      "_view_count": null,
      "_view_module": "@jupyter-widgets/controls",
      "_view_module_version": "1.5.0",
      "_view_name": "HTMLView",
      "description": "",
      "description_tooltip": null,
      "layout": "IPY_MODEL_789b0fedf72e47adafcff82eae217e4f",
      "placeholder": "​",
      "style": "IPY_MODEL_82b51cda51d64977bf198855c17ac055",
      "value": " 74/74 [00:00&lt;00:00, 1437.92 examples/s]"
     }
    },
    "f8384fab29ee458a88178d75dffa064d": {
     "model_module": "@jupyter-widgets/controls",
     "model_module_version": "1.5.0",
     "model_name": "ProgressStyleModel",
     "state": {
      "_model_module": "@jupyter-widgets/controls",
      "_model_module_version": "1.5.0",
      "_model_name": "ProgressStyleModel",
      "_view_count": null,
      "_view_module": "@jupyter-widgets/base",
      "_view_module_version": "1.2.0",
      "_view_name": "StyleView",
      "bar_color": null,
      "description_width": ""
     }
    }
   }
  }
 },
 "nbformat": 4,
 "nbformat_minor": 1
}
